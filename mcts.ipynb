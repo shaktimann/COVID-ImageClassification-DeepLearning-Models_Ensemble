{
  "nbformat": 4,
  "nbformat_minor": 0,
  "metadata": {
    "colab": {
      "provenance": [],
      "include_colab_link": true
    },
    "kernelspec": {
      "name": "python3",
      "display_name": "Python 3"
    },
    "language_info": {
      "name": "python"
    }
  },
  "cells": [
    {
      "cell_type": "markdown",
      "metadata": {
        "id": "view-in-github",
        "colab_type": "text"
      },
      "source": [
        "<a href=\"https://colab.research.google.com/github/shaktimann/COVID-ImageClassification-DeepLearning-Models_Ensemble/blob/master/mcts.ipynb\" target=\"_parent\"><img src=\"https://colab.research.google.com/assets/colab-badge.svg\" alt=\"Open In Colab\"/></a>"
      ]
    },
    {
      "cell_type": "markdown",
      "source": [
        "# Game Playing Agents #\n",
        "\n",
        "In this project, we will implement a variation of **Minimax** and **Monte Carlo Tree Search** to play a simple strategic game.\n",
        "\n",
        "The game is played on a 2D grid on which there are a number of enemy bases. The agent must destroy the enemy bases to win the game. Here is an example of a 5x5 map:``````\n",
        "\n",
        "```\n",
        "[] T3 [] B1 [] \n",
        "[] [] T2 [] [] \n",
        "A  [] [] [] [] \n",
        "[] T1 [] T0 [] \n",
        "[] [] T4 [] B0\n",
        "```\n",
        "The agent is specified by `A`. There are two bases, `B0` and `B1`. There are five towers: `T0` through `T4`.\n",
        "\n",
        "Towers are and bases are automatically destroyed when the agent encounters them and they are no longer invincible. But when the agent encounters invincible towers and bases, the agent is automatically killed. This game emulates the high-level strategic planning, wherein an encounter between the agent and a tower or base might represent a drawn-out firefight.\n",
        "\n",
        "However, the towers must be destroyed in a specific order. The bases are ``guarded`` by towers. This means bases are invulnerable until the guarding towers are destroyed. Some towers may also be ``guarded`` by other towers and thus be invulnerable until the guarding towers are destroyed. \n",
        "\n",
        "For example, in the above map it might be the case that:\n",
        "```\n",
        "B0: guarded by T0\n",
        "B1: guarded by T1\n",
        "T0: guarded by T3 and T4\n",
        "T1: guarded by T2\n",
        "```\n",
        "The game can be won by destroying towers in the following order: T2, T1, B1, T3, T4, T0, B0.\n",
        "There are many possible orderings and the agent must discover one of the correct orderings.\n",
        "\n",
        "The guard configuration is represented internally in the game engine with a dictionary that you will be able to see but the agent will not be able to see:\n",
        "```\n",
        "{'B0': ['T0'], 'B1': ['T1'], 'T1': ['T2'], 'T0': ['T3', 'T4']}\n",
        "```\n",
        "The agent must learn one of the correct orderings through trial and error using either a **Minimax**-like algorithm or through **Monte Carlo Tree Search**.\n",
        "\n",
        "To facilitate this, we provide a means of scoring the agent's attempts. The agent gets -100 points for dying, either from encountering a tower or base that is still guarded, or by going off the edge of the map. \n",
        "The agent gets +10 points for each tower destroyed.\n",
        "The agent gets +50 points for each based destroyed.\n",
        "The game ends when the agent is killed or when all bases are destroyed.\n",
        "\n",
        "The project comes is a set number of hand-crafted maps, but is also capable of generating new maps of arbitrary complexity.\n",
        "\n",
        "\n",
        "\n"
      ],
      "metadata": {
        "id": "ixWe6_uKzLUg"
      }
    },
    {
      "cell_type": "markdown",
      "source": [],
      "metadata": {
        "id": "Z4_6n4NZbiB8"
      }
    },
    {
      "cell_type": "markdown",
      "source": [
        "# Install and import"
      ],
      "metadata": {
        "id": "rqKqbPfuooKs"
      }
    },
    {
      "cell_type": "code",
      "source": [
        "!pip install graphviz\n",
        "!pip install pydot"
      ],
      "metadata": {
        "id": "JKXVg9hp9rJR",
        "colab": {
          "base_uri": "https://localhost:8080/"
        },
        "outputId": "d3669288-21f2-4e18-e8f3-0ed59dd0702c"
      },
      "execution_count": null,
      "outputs": [
        {
          "output_type": "stream",
          "name": "stdout",
          "text": [
            "Looking in indexes: https://pypi.org/simple, https://us-python.pkg.dev/colab-wheels/public/simple/\n",
            "Requirement already satisfied: graphviz in /usr/local/lib/python3.9/dist-packages (0.20.1)\n",
            "Looking in indexes: https://pypi.org/simple, https://us-python.pkg.dev/colab-wheels/public/simple/\n",
            "Requirement already satisfied: pydot in /usr/local/lib/python3.9/dist-packages (1.4.2)\n",
            "Requirement already satisfied: pyparsing>=2.1.4 in /usr/local/lib/python3.9/dist-packages (from pydot) (3.0.9)\n"
          ]
        }
      ]
    },
    {
      "cell_type": "code",
      "source": [
        "from typing import NamedTuple\n",
        "from copy import copy, deepcopy\n",
        "from enum import Enum\n",
        "from functools import partial\n",
        "import random\n",
        "import math\n",
        "import graphviz\n",
        "import pydot\n",
        "from IPython.display import Image"
      ],
      "metadata": {
        "id": "hLflZkH7Dfbt"
      },
      "execution_count": null,
      "outputs": []
    },
    {
      "cell_type": "markdown",
      "source": [
        "# Data Structures"
      ],
      "metadata": {
        "id": "zVpabiH6iREs"
      }
    },
    {
      "cell_type": "code",
      "source": [
        "### Entity class: can be agents, towers, or bases\n",
        "class Entity():\n",
        "  def __init__(self, name, x, y, status):\n",
        "    self.name = name          # Name\n",
        "    self.x = x                # x position\n",
        "    self.y = y                # y position\n",
        "    self.status = status      # status from Status ENUM\n",
        "\n",
        "### State object\n",
        "class State():\n",
        "  def __init__(self, agent, towers = [], bases = [], terminal = False, rows=3, cols=3, guards = {}):\n",
        "    self.agent = agent            # pointer to an agent Entity\n",
        "    self.towers = towers          # list of tower Entity objects\n",
        "    self.bases = bases            # list of base Entity objects\n",
        "    self.terminal = terminal      # Is the state terminal (boolean)\n",
        "    self.rows = rows              # Number of rows in grid\n",
        "    self.cols = cols              # number of columns in grid\n",
        "    self.guards = guards          # A dictionary of entity names (string) where \n",
        "                                  # values are lists of entity names\n",
        "                                  # E.g. {B0: [T1, T2]} means base B0 is guarded by towers T1 and T2\n",
        "                                  # and B0 will only be vulnerable when T1 and T2 are Status.DEAD."
      ],
      "metadata": {
        "id": "9NM7xd8hDKbP"
      },
      "execution_count": null,
      "outputs": []
    },
    {
      "cell_type": "markdown",
      "source": [
        "#Agent Actions"
      ],
      "metadata": {
        "id": "LqFZlceaiPe4"
      }
    },
    {
      "cell_type": "markdown",
      "source": [
        "These functions describe the actions the agent can perform."
      ],
      "metadata": {
        "id": "slTCLHR50VQN"
      }
    },
    {
      "cell_type": "code",
      "source": [
        "def agent_east(state):\n",
        "  state.agent.x = state.agent.x + 1\n",
        "  return state\n",
        "\n",
        "def agent_north(state):\n",
        "  state.agent.y = state.agent.y - 1\n",
        "  return state\n",
        "\n",
        "def agent_south(state):\n",
        "  state.agent.y = state.agent.y + 1\n",
        "  return state\n",
        "\n",
        "def agent_west(state):\n",
        "  state.agent.x = state.agent.x - 1\n",
        "  return state"
      ],
      "metadata": {
        "id": "meFBu07NEecS"
      },
      "execution_count": null,
      "outputs": []
    },
    {
      "cell_type": "markdown",
      "source": [
        "# Enumerated Types"
      ],
      "metadata": {
        "id": "anKeQAFWMeIj"
      }
    },
    {
      "cell_type": "code",
      "source": [
        "### Types of entities\n",
        "class EntityTypes(Enum):\n",
        "  AGENT = 'A'\n",
        "  BASE = 'B'\n",
        "  TOWER = 'T'\n",
        "\n",
        "### Agents, towers, and bases can be alive or dead\n",
        "class Status(Enum):\n",
        "  ALIVE = 1\n",
        "  DEAD = 0\n",
        "\n",
        "### List of available actions\n",
        "### Values are functions. \n",
        "### e.g., Call Actions.EAST.value(state)\n",
        "class Actions(Enum):\n",
        "  EAST = partial(agent_east)\n",
        "  SOUTH = partial(agent_south)\n",
        "  NORTH = partial(agent_north)\n",
        "  WEST = partial(agent_west)"
      ],
      "metadata": {
        "id": "JZrJ-Z5PMfhO"
      },
      "execution_count": null,
      "outputs": []
    },
    {
      "cell_type": "markdown",
      "source": [
        "# Drawing the Game State"
      ],
      "metadata": {
        "id": "WDhL_wgEiUxD"
      }
    },
    {
      "cell_type": "code",
      "execution_count": null,
      "metadata": {
        "id": "g1AjtQv9_eMV"
      },
      "outputs": [],
      "source": [
        "### Make a grid as a list of lists\n",
        "\n",
        "def make_grid(cols, rows):\n",
        "  grid = [[0 for col in range(cols)] for row in range(rows)]\n",
        "  return grid\n",
        "\n",
        "### Put names of agents, towers, and bases on a grid (when alive)\n",
        "\n",
        "def draw_state(state):\n",
        "  grid = make_grid(state.cols, state.rows)\n",
        "  for tower in state.towers:\n",
        "    if tower.status == Status.ALIVE and tower.x >= 0 and tower.x < state.cols and tower.y >=0 and tower.y < state.rows:\n",
        "      grid[tower.y][tower.x] = tower.name\n",
        "  for base in state.bases:  \n",
        "    if base.status == Status.ALIVE and base.x >= 0 and base.x < state.cols and base.y >=0 and base.y < state.rows:\n",
        "      grid[base.y][base.x] = base.name\n",
        "  if state.agent.x >= 0 and state.agent.x < state.cols and state.agent.y >=0 and state.agent.y < state.rows:\n",
        "    grid[state.agent.y][state.agent.x] = EntityTypes.AGENT.value\n",
        "  return grid\n",
        "\n",
        "### Make game state easy to view\n",
        "### indent: shift everything to the right by a number of spaces\n",
        "\n",
        "def pretty_print(state, indent = 0):\n",
        "  # Make a grid with agent, towers, and bases\n",
        "  grid = draw_state(state)\n",
        "  # Now redraw the grid line by line\n",
        "  for j in range(len(grid)):\n",
        "    line = ''\n",
        "    for i in range(len(grid[j])):\n",
        "      c = grid[j][i]\n",
        "      if c == 0:\n",
        "        c = '[]'\n",
        "      if len(c) < 2:\n",
        "        c = c + \" \"\n",
        "      line = line + c + \" \"  \n",
        "    print(' '*indent + line)\n",
        "  print(' '*indent + \"  guards\", state.guards)\n",
        "  print(' '*indent + \"  agent\", state.agent.status.name)\n",
        "  print(' '*indent + \"  towers\", [tower.name + \": \" + str(tower.status.name) for tower in state.towers])\n",
        "  print(' '*indent + \"  bases\", [base.name + \": \" + str(base.status.name) for base in state.bases])\n",
        "  print(' '*indent + \"  terminal\", state.terminal)"
      ]
    },
    {
      "cell_type": "markdown",
      "source": [
        "# Make a Random Game"
      ],
      "metadata": {
        "id": "QYgyhOQSeNb6"
      }
    },
    {
      "cell_type": "code",
      "source": [
        "### Make the towers, bases, and their dependencies (who defends who).\n",
        "### Each base is always defended by at least one tower\n",
        "### num_towers must be equal to or greater than num_bases\n",
        "\n",
        "def make_towers_and_bases(num_bases = 1, num_towers = 1):\n",
        "  # Make bases\n",
        "  bases = [str(EntityTypes.BASE.value)+str(b) for b in list(range(num_bases))]\n",
        "  # Make towers\n",
        "  towers = [str(EntityTypes.TOWER.value)+str(b) for b in list(range(num_towers))]\n",
        "  # Initialize defended hash\n",
        "  guards = {}\n",
        "  # initially each base should have a tower\n",
        "  for i, base in enumerate(bases):\n",
        "    guards[base] = [towers[i]]\n",
        "  # Keep track of used bases and towers. All bases are used up and some towers equal to number of bases\n",
        "  used = bases + towers[:i+1]\n",
        "  # Keep track of remaining towers\n",
        "  remaining_towers = towers[i+1:]\n",
        "  # Iterate through remaining towers, assigning them to defend\n",
        "  while len(remaining_towers) > 0:\n",
        "    next_tower = remaining_towers.pop(0)\n",
        "    pick = used[random.randrange(0, len(used))]\n",
        "    if pick not in guards:\n",
        "      guards[pick] = []\n",
        "    guards[pick].append(next_tower)\n",
        "    used.append(pick)\n",
        "  return bases, towers, guards"
      ],
      "metadata": {
        "id": "7ZHTSYXmSLXb"
      },
      "execution_count": null,
      "outputs": []
    },
    {
      "cell_type": "code",
      "source": [
        "### Make towers and bases then assign them to grid locations\n",
        "### Make an initial state object\n",
        "\n",
        "def make_random_game(num_bases = 1, num_towers = 1):\n",
        "  # Make bases and towers and assign defenders\n",
        "  bases, towers, guards = make_towers_and_bases(num_bases, num_towers)\n",
        "  # Everything altogether\n",
        "  all = bases + towers\n",
        "  # We will always have 5 rows\n",
        "  # Compute how many columns we need\n",
        "  num_cols = int(math.ceil(len(all)/4.0)) + 3\n",
        "  # Make a set of valid positions\n",
        "  positions = []\n",
        "  # Iterate through all the rows and columsn\n",
        "  # j loop is for rows \n",
        "  for j in range(4):\n",
        "    adjust = 0 # Sometimes we need fewer slots on odd rows\n",
        "    if num_cols % 2 == 0:\n",
        "      adjust = 1\n",
        "    #i loop is for columns\n",
        "    for i in range(int(num_cols/2) - ((j%2) * adjust)):\n",
        "      # A column position\n",
        "      col = (i * 2) + 1\n",
        "      # If we are on odd rows, add an offset\n",
        "      if (j % 2) == 1:\n",
        "        col = col + 1\n",
        "      # Compute the row number\n",
        "      row = j\n",
        "      # Skip the middle row\n",
        "      if row > 1:\n",
        "        row = row + 1\n",
        "      # Store the valid position\n",
        "      positions.append((col, row))\n",
        "  # For storing entities when we make them\n",
        "  tower_entities = []\n",
        "  base_entities = []\n",
        "  # Iterate through towers and make entities\n",
        "  for tower in towers:\n",
        "    # Grab a valid position\n",
        "    pos = positions.pop(random.randrange(0, len(positions)))\n",
        "    # Make a tower entity\n",
        "    tower_entities.append(Entity(name = tower, x = pos[0], y = pos[1], status = Status.ALIVE))\n",
        "  # Iterate through bases and make entities\n",
        "  for base in bases:\n",
        "    # Grab a valid position\n",
        "    pos = positions.pop(random.randrange(0, len(positions)))\n",
        "    # Make a base entity\n",
        "    base_entities.append(Entity(name = base, x = pos[0], y = pos[1], status = Status.ALIVE))\n",
        "  # Build the state object\n",
        "  state = State(agent = Entity(name = \"agent\", x = 0, y = 2, status = Status.ALIVE),\n",
        "                towers = [tower for tower in tower_entities],\n",
        "                bases = [base for base in base_entities],\n",
        "                terminal = False,\n",
        "                rows = 5,\n",
        "                cols = num_cols,\n",
        "                guards = guards)\n",
        "  return state"
      ],
      "metadata": {
        "id": "ehcgk-qR9QzT"
      },
      "execution_count": null,
      "outputs": []
    },
    {
      "cell_type": "code",
      "source": [
        "random_game_state = make_random_game(2, 3)\n",
        "pretty_print(random_game_state)"
      ],
      "metadata": {
        "id": "ibB1cpH8l8pK",
        "colab": {
          "base_uri": "https://localhost:8080/"
        },
        "outputId": "65d99970-f0f6-4066-eb2a-cabae0769032"
      },
      "execution_count": null,
      "outputs": [
        {
          "output_type": "stream",
          "name": "stdout",
          "text": [
            "[] [] [] T2 [] \n",
            "[] [] B1 [] [] \n",
            "A  [] [] [] [] \n",
            "[] T1 [] [] [] \n",
            "[] [] T0 [] B0 \n",
            "  guards {'B0': ['T0', 'T2'], 'B1': ['T1']}\n",
            "  agent ALIVE\n",
            "  towers ['T0: ALIVE', 'T1: ALIVE', 'T2: ALIVE']\n",
            "  bases ['B0: ALIVE', 'B1: ALIVE']\n",
            "  terminal False\n"
          ]
        }
      ]
    },
    {
      "cell_type": "markdown",
      "source": [
        "# Hard-coded initial states"
      ],
      "metadata": {
        "id": "FI5vp5-jImqI"
      }
    },
    {
      "cell_type": "code",
      "source": [
        "state5x3 = State(agent=Entity(name=\"agent\",x=0,y=1,status=Status.ALIVE), \n",
        "                 towers=[Entity(name=\"t0\", x=2, y=0,status=Status.ALIVE)], \n",
        "                 bases=[Entity(name=\"b0\", x=4, y=2,status=Status.ALIVE)], \n",
        "                 terminal = False,\n",
        "                 rows = 3,\n",
        "                 cols = 5,\n",
        "                 guards = {'b0': ['t0']})\n",
        "\n",
        "state3x3 = State(agent=Entity(name=\"agent\",x=0,y=1,status=Status.ALIVE), \n",
        "                 towers=[Entity(name=\"t0\",x=1, y=0,status=Status.ALIVE)], \n",
        "                 bases=[Entity(name=\"b0\",x=2, y=2,status=Status.ALIVE)], \n",
        "                 terminal = False,\n",
        "                 rows = 3,\n",
        "                 cols = 3,\n",
        "                 guards = {'b0': ['t0']})\n",
        "\n",
        "state3x3_t = State(agent=Entity(name=\"agent\",x=1,y=1,status=Status.ALIVE), \n",
        "                 towers=[Entity(name=\"t0\",x=1, y=0,status=Status.ALIVE),\n",
        "                         Entity(name=\"t1\",x=1, y=2,status=Status.ALIVE),\n",
        "                         Entity(name=\"t2\",x=0, y=1,status=Status.ALIVE)], \n",
        "                 bases=[Entity(name=\"b0\",x=2, y=1,status=Status.ALIVE)], \n",
        "                 terminal = False,\n",
        "                 rows = 3,\n",
        "                 cols = 3,\n",
        "                 guards = {'t2': ['t1'], 't1':['t0'], 'b0':['t2']})\n",
        "\n",
        "state2towers = State(agent=Entity(name=\"agent\",x=0,y=1,status=Status.ALIVE), \n",
        "                     towers=[Entity(name=\"t0\",x=1,y=0,status=Status.ALIVE),\n",
        "                             Entity(name=\"t1\",x=1,y=2,status=Status.ALIVE)], \n",
        "                     bases=[Entity(name=\"b0\",x=2, y=1,status=Status.ALIVE)], \n",
        "                     terminal = False,\n",
        "                     rows = 3,\n",
        "                     cols = 3,\n",
        "                     guards = {'b0': ['t0', 't1']})\n",
        "\n",
        "state_big = State(agent=Entity(name=\"agent\", x=0, y=1, status = Status.ALIVE),\n",
        "                  towers = [Entity(name=\"T0\",x=3,y=0,status=Status.ALIVE),\n",
        "                            Entity(name=\"T1\",x=2,y=2,status=Status.ALIVE),\n",
        "                            Entity(name=\"T2\",x=2,y=0,status=Status.ALIVE),\n",
        "                            Entity(name=\"T3\",x=3,y=2,status=Status.ALIVE)],\n",
        "                  bases = [Entity(name=\"B0\",x=4, y=0,status=Status.ALIVE),\n",
        "                           Entity(name=\"B1\",x=1, y=2,status=Status.ALIVE)],\n",
        "                  terminal = False,\n",
        "                  rows = 3,\n",
        "                  cols = 5,\n",
        "                  guards = {'B0': ['T0'], 'B1': ['T1'], 'T0': ['T2'], 'T1': ['T3']})\n",
        "\n",
        "state_big2 = State(agent=Entity(name=\"agent\", x=0, y=0, status = Status.ALIVE),\n",
        "                   towers = [Entity(name=\"T0\",x=5,y=9,status=Status.ALIVE),\n",
        "                             Entity(name=\"T1\",x=9,y=9,status=Status.ALIVE),\n",
        "                             ],\n",
        "                   bases = [Entity(name=\"B0\",x=0, y=5,status=Status.ALIVE),\n",
        "                            ],\n",
        "                   terminal = False,\n",
        "                   rows = 10,\n",
        "                   cols = 10,\n",
        "                   guards = {'B0': ['T0'], 'T0': ['T1']})\n",
        "\n",
        "big_test_map = State(agent=Entity(name=\"agent\", x=0, y=2, status = Status.ALIVE),\n",
        "                      towers = [Entity(name=\"T3\",x=1,y=0,status=Status.ALIVE),\n",
        "                                Entity(name=\"T2\",x=2,y=1,status=Status.ALIVE),\n",
        "                                Entity(name=\"T1\",x=1,y=3,status=Status.ALIVE),\n",
        "                                Entity(name=\"T0\",x=3,y=3,status=Status.ALIVE),\n",
        "                                Entity(name=\"T4\",x=2,y=4,status=Status.ALIVE)\n",
        "                                ],\n",
        "                  bases = [Entity(name=\"B0\",x=4, y=4,status=Status.ALIVE),\n",
        "                           Entity(name=\"B1\",x=3, y=0,status=Status.ALIVE)\n",
        "                           ],\n",
        "                  terminal = False,\n",
        "                  rows = 5,\n",
        "                  cols = 5,\n",
        "                  guards = {'B0': ['T0'], 'B1': ['T1'], 'T1': ['T2'], 'T0': ['T3', 'T4']})"
      ],
      "metadata": {
        "id": "3T7FseLrH029"
      },
      "execution_count": null,
      "outputs": []
    },
    {
      "cell_type": "markdown",
      "source": [
        "# Initialize game state"
      ],
      "metadata": {
        "id": "ZCVu0U7PoWzg"
      }
    },
    {
      "cell_type": "code",
      "source": [
        "state_to_test = state2towers\n",
        "init_state = deepcopy(state_to_test)\n",
        "pretty_print(init_state)"
      ],
      "metadata": {
        "id": "KDGyg3fV50MF",
        "colab": {
          "base_uri": "https://localhost:8080/"
        },
        "outputId": "be6eea3c-1e07-4c59-c11a-ee22b6c1c874"
      },
      "execution_count": 277,
      "outputs": [
        {
          "output_type": "stream",
          "name": "stdout",
          "text": [
            "[] t0 [] \n",
            "A  [] b0 \n",
            "[] t1 [] \n",
            "  guards {'b0': ['t0', 't1']}\n",
            "  agent ALIVE\n",
            "  towers ['t0: ALIVE', 't1: ALIVE']\n",
            "  bases ['b0: ALIVE']\n",
            "  terminal False\n"
          ]
        }
      ]
    },
    {
      "cell_type": "markdown",
      "source": [
        "# Compute the game score"
      ],
      "metadata": {
        "id": "yLAPPQ6Gocq5"
      }
    },
    {
      "cell_type": "code",
      "source": [
        "### +50 for each dead base\n",
        "### +10 for each dead tower\n",
        "### -100 for dead agent\n",
        "### -1 for each depth (length of solution)\n",
        "\n",
        "def score(state, depth = 0):\n",
        "  score = 0\n",
        "  # Is the agent dead?\n",
        "  if state.agent.status == Status.DEAD:\n",
        "    score = score - 100\n",
        "#  else:\n",
        "  # Any dead towers?\n",
        "  for tower in state.towers:\n",
        "    if tower.status == Status.DEAD:\n",
        "      score = score + 100\n",
        "  # Any dead bases?\n",
        "  for base in state.bases:\n",
        "    if base.status == Status.DEAD:\n",
        "      score = score + 200\n",
        "# Length penalty\n",
        "  score = score - depth\n",
        "  return score"
      ],
      "metadata": {
        "id": "FDuab5MWob_g"
      },
      "execution_count": null,
      "outputs": []
    },
    {
      "cell_type": "markdown",
      "source": [
        "# Executing Actions"
      ],
      "metadata": {
        "id": "yWc2pxSZIpbM"
      }
    },
    {
      "cell_type": "markdown",
      "source": [
        "This section contains the logic for the rules of the game--what happens when different actions are executed under different circumstances causing the agent or towers or bases to die. The `do_action()` is the core function of the game."
      ],
      "metadata": {
        "id": "yE637_6A34Bh"
      }
    },
    {
      "cell_type": "markdown",
      "source": [
        "Helpers:"
      ],
      "metadata": {
        "id": "J96GnMo44NvJ"
      }
    },
    {
      "cell_type": "code",
      "source": [
        "### Figure out if an entity (string name of a base or tower) is alive or not\n",
        "\n",
        "def is_alive(entity, state):\n",
        "  # Check to see if entity is the agent\n",
        "  if state.agent.name == entity:\n",
        "    return state.agent.name.status == Status.ALIVE\n",
        "  # Check to see if entity is a tower\n",
        "  for tower in state.towers:\n",
        "    if tower.name == entity:\n",
        "      return tower.status == Status.ALIVE\n",
        "  # Check to see if entity is a base\n",
        "  for base in state.bases:\n",
        "    if base.name == entity:\n",
        "      return base.status == Status.ALIVE\n",
        "  return False\n",
        "\n",
        "### Figure out if a tower or base (name string) is defended.\n",
        "### An entity is not defended if every defending entity is dead.\n",
        "\n",
        "def guarded(entity, state):\n",
        "  if entity in state.guards:\n",
        "    for guard in state.guards[entity]:\n",
        "      if is_alive(guard, state):\n",
        "        return True\n",
        "  return False  "
      ],
      "metadata": {
        "id": "Si2UMNEj4Q8S"
      },
      "execution_count": null,
      "outputs": []
    },
    {
      "cell_type": "markdown",
      "source": [
        "The `do_action()` function"
      ],
      "metadata": {
        "id": "TKTAo7n34R2p"
      }
    },
    {
      "cell_type": "code",
      "source": [
        "### Execute an action\n",
        "### Action is from Actions ENUM.\n",
        "\n",
        "def do_action(action, state):\n",
        "  # Make a deep copy of the state\n",
        "  new_state = deepcopy(state)\n",
        "  # Call the action function\n",
        "  new_state = action.value(new_state)\n",
        "  # Grab a reference to the agent for convenience\n",
        "  agent = new_state.agent\n",
        "  # If agent has gone off the board, then it is dead\n",
        "  if agent.x < 0 or agent.y < 0 or agent.x >= state.cols or agent.y >= state.rows:\n",
        "    agent.status = Status.DEAD\n",
        "    new_state.terminal = True\n",
        "    #new_state = deepcopy(state) # don't die when going off the edge, just don't move\n",
        "  else:\n",
        "    # Did the agent encounter a tower?\n",
        "    for tower in new_state.towers:\n",
        "      if tower.status == Status.ALIVE and agent.x == tower.x and agent.y == tower.y:\n",
        "        # Is the tower defended?\n",
        "        if guarded(tower.name, state):\n",
        "          # Tower is defended so agent is dead\n",
        "          agent.status = Status.DEAD\n",
        "          new_state.terminal = True\n",
        "        else:\n",
        "          # Tower was not defended so tower is dead\n",
        "          tower.status = Status.DEAD\n",
        "    # Did the agent encounter a base?\n",
        "    for base in new_state.bases:\n",
        "      if base.status == Status.ALIVE and agent.x == base.x and agent.y == base.y:\n",
        "        # Is the base defended?\n",
        "        if guarded(base.name, state):\n",
        "          # Base is defended so agent is dead\n",
        "          agent.status = Status.DEAD\n",
        "          new_state.terminal = True\n",
        "        else:\n",
        "          # Base was not defended so base is dead\n",
        "          base.status = Status.DEAD\n",
        "    # Check for alive bases\n",
        "    alive_bases = 0\n",
        "    for base in new_state.bases:\n",
        "      if base.status == Status.ALIVE:\n",
        "        alive_bases = alive_bases + 1\n",
        "    # If there are no alive bases, then the game is over\n",
        "    if alive_bases == 0:\n",
        "      new_state.terminal = True\n",
        "  return new_state"
      ],
      "metadata": {
        "id": "LkH3pFa9IuLB"
      },
      "execution_count": null,
      "outputs": []
    },
    {
      "cell_type": "markdown",
      "source": [
        "Utility function for driving the agent manually"
      ],
      "metadata": {
        "id": "XHYOKSUiquzw"
      }
    },
    {
      "cell_type": "code",
      "source": [
        "### Utility for driving the agent manually.\n",
        "### Route is a list of actions from Actions ENUM (e.g., [Actions.EAST, Actions.NORTH, etc.])\n",
        "def test_run(state, route):\n",
        "  # Print the game state  \n",
        "  pretty_print(state)\n",
        "  # Execute each action in route\n",
        "  for action in route:\n",
        "    print(\"\\nACTION\", action.name, '\\n')\n",
        "    state = do_action(action, state)\n",
        "    # Print the game state\n",
        "    pretty_print(state)\n",
        "  # Print the score\n",
        "  print(\"Score:\", score(state))\n",
        "  return state"
      ],
      "metadata": {
        "id": "RvV3Qm8lYt8R"
      },
      "execution_count": null,
      "outputs": []
    },
    {
      "cell_type": "code",
      "source": [
        "dummy_state = test_run(init_state, [Actions.EAST, Actions.NORTH, Actions.EAST])"
      ],
      "metadata": {
        "id": "FrNJennCZZKH",
        "colab": {
          "base_uri": "https://localhost:8080/"
        },
        "outputId": "4adfb951-bf9e-48d2-e938-2577b4993526"
      },
      "execution_count": null,
      "outputs": [
        {
          "output_type": "stream",
          "name": "stdout",
          "text": [
            "[] t0 [] \n",
            "A  [] b0 \n",
            "[] t1 [] \n",
            "  guards {'b0': ['t0', 't1']}\n",
            "  agent ALIVE\n",
            "  towers ['t0: ALIVE', 't1: ALIVE']\n",
            "  bases ['b0: ALIVE']\n",
            "  terminal False\n",
            "\n",
            "ACTION EAST \n",
            "\n",
            "[] t0 [] \n",
            "[] A  b0 \n",
            "[] t1 [] \n",
            "  guards {'b0': ['t0', 't1']}\n",
            "  agent ALIVE\n",
            "  towers ['t0: ALIVE', 't1: ALIVE']\n",
            "  bases ['b0: ALIVE']\n",
            "  terminal False\n",
            "\n",
            "ACTION NORTH \n",
            "\n",
            "[] A  [] \n",
            "[] [] b0 \n",
            "[] t1 [] \n",
            "  guards {'b0': ['t0', 't1']}\n",
            "  agent ALIVE\n",
            "  towers ['t0: DEAD', 't1: ALIVE']\n",
            "  bases ['b0: ALIVE']\n",
            "  terminal False\n",
            "\n",
            "ACTION EAST \n",
            "\n",
            "[] [] A  \n",
            "[] [] b0 \n",
            "[] t1 [] \n",
            "  guards {'b0': ['t0', 't1']}\n",
            "  agent ALIVE\n",
            "  towers ['t0: DEAD', 't1: ALIVE']\n",
            "  bases ['b0: ALIVE']\n",
            "  terminal False\n",
            "Score: 100\n"
          ]
        }
      ]
    },
    {
      "cell_type": "markdown",
      "source": [
        "# Maximax\n",
        "\n",
        "For the student to complete"
      ],
      "metadata": {
        "id": "Lbpop8n-ih10"
      }
    },
    {
      "cell_type": "code",
      "source": [
        "### Maximax function\n",
        "### state is initial state\n",
        "### actions is the set of possible actions\n",
        "### max_depth is how deep the search can go before backtracking\n",
        "\n",
        "def maximax(state, actions = [act for act in Actions], max_depth = float(\"inf\")):\n",
        "  best_action = None # Return the best action\n",
        "  best_action_value = -float(\"inf\") # Return the value of the best action (dummy default is -infinity)\n",
        "  ### YOUR CODE GOES BELOW\n",
        "\n",
        "  for action in actions:\n",
        "      new_state = do_action(action, state)\n",
        "      value, _ = recurse(new_state, actions, 1, max_depth)\n",
        "      if value > best_action_value:\n",
        "          best_action_value = value\n",
        "          best_action = action\n",
        "\n",
        "  ### YOUR CODE GOES ABOVE\n",
        "  return best_action, best_action_value\n",
        "\n",
        "def recurse(state, actions, depth, max_depth):\n",
        "    if depth == max_depth or state.terminal:\n",
        "        return score(state, depth), None\n",
        "    best_action = None\n",
        "    best_value = -float(\"inf\")\n",
        "    for action in actions:\n",
        "        new_state = do_action(action, state)\n",
        "        value, _ = recurse(new_state, actions, depth+1, max_depth)\n",
        "        if value > best_value:\n",
        "            best_value = value\n",
        "            best_action = action\n",
        "    return best_value, best_action\n"
      ],
      "metadata": {
        "id": "ElxT7S-yNKT5"
      },
      "execution_count": null,
      "outputs": []
    },
    {
      "cell_type": "markdown",
      "source": [
        "Run the agent using the maximax decision-making algorithm. This runs maximax after every action as if the tree is unreliable after execution. In reality it is not, and it is possible to implement some sort of state memorization."
      ],
      "metadata": {
        "id": "Kx79eYbAsjLB"
      }
    },
    {
      "cell_type": "code",
      "source": [
        "def run_maximax(state, actions = [act for act in Actions], max_depth = float(\"inf\")):\n",
        "  # Print the state\n",
        "  pretty_print(state)\n",
        "  value = 0\n",
        "  # Run until terminal state reached\n",
        "  while not state.terminal:\n",
        "    # Compute best action\n",
        "    action, value = maximax(state, actions, max_depth = max_depth)\n",
        "    print(\"\\nACTION\", action.name, \"value\", value, '\\n')\n",
        "    # Execute the action\n",
        "    state = do_action(action, state)\n",
        "    # print the state\n",
        "    pretty_print(state)\n",
        "\n",
        "  return value\n"
      ],
      "metadata": {
        "id": "YZx8d1yeTraH"
      },
      "execution_count": null,
      "outputs": []
    },
    {
      "cell_type": "markdown",
      "source": [
        "Test Maximax"
      ],
      "metadata": {
        "id": "JZx2vQDzvxQ4"
      }
    },
    {
      "cell_type": "code",
      "source": [
        "pretty_print(init_state)\n",
        "action, value = maximax(init_state, max_depth=10)\n",
        "print(\"action:\", action.name)\n",
        "print(\"value:\", value)"
      ],
      "metadata": {
        "id": "TzTlYE5MdLV0",
        "colab": {
          "base_uri": "https://localhost:8080/"
        },
        "outputId": "0b61a6ca-eab1-41ab-e4d7-44213a5c81d8"
      },
      "execution_count": null,
      "outputs": [
        {
          "output_type": "stream",
          "name": "stdout",
          "text": [
            "[] t0 [] \n",
            "A  [] b0 \n",
            "[] t1 [] \n",
            "  guards {'b0': ['t0', 't1']}\n",
            "  agent ALIVE\n",
            "  towers ['t0: ALIVE', 't1: ALIVE']\n",
            "  bases ['b0: ALIVE']\n",
            "  terminal False\n",
            "action: EAST\n",
            "value: 394\n"
          ]
        }
      ]
    },
    {
      "cell_type": "code",
      "source": [
        "run_maximax(init_state, max_depth=10)"
      ],
      "metadata": {
        "id": "-oscFv-nhzjt",
        "colab": {
          "base_uri": "https://localhost:8080/"
        },
        "outputId": "da056bfc-54e5-4824-b899-264b333d23d7"
      },
      "execution_count": null,
      "outputs": [
        {
          "output_type": "stream",
          "name": "stdout",
          "text": [
            "[] t0 [] \n",
            "A  [] b0 \n",
            "[] t1 [] \n",
            "  guards {'b0': ['t0', 't1']}\n",
            "  agent ALIVE\n",
            "  towers ['t0: ALIVE', 't1: ALIVE']\n",
            "  bases ['b0: ALIVE']\n",
            "  terminal False\n",
            "\n",
            "ACTION EAST value 394 \n",
            "\n",
            "[] t0 [] \n",
            "[] A  b0 \n",
            "[] t1 [] \n",
            "  guards {'b0': ['t0', 't1']}\n",
            "  agent ALIVE\n",
            "  towers ['t0: ALIVE', 't1: ALIVE']\n",
            "  bases ['b0: ALIVE']\n",
            "  terminal False\n",
            "\n",
            "ACTION SOUTH value 395 \n",
            "\n",
            "[] t0 [] \n",
            "[] [] b0 \n",
            "[] A  [] \n",
            "  guards {'b0': ['t0', 't1']}\n",
            "  agent ALIVE\n",
            "  towers ['t0: ALIVE', 't1: DEAD']\n",
            "  bases ['b0: ALIVE']\n",
            "  terminal False\n",
            "\n",
            "ACTION NORTH value 396 \n",
            "\n",
            "[] t0 [] \n",
            "[] A  b0 \n",
            "[] [] [] \n",
            "  guards {'b0': ['t0', 't1']}\n",
            "  agent ALIVE\n",
            "  towers ['t0: ALIVE', 't1: DEAD']\n",
            "  bases ['b0: ALIVE']\n",
            "  terminal False\n",
            "\n",
            "ACTION NORTH value 397 \n",
            "\n",
            "[] A  [] \n",
            "[] [] b0 \n",
            "[] [] [] \n",
            "  guards {'b0': ['t0', 't1']}\n",
            "  agent ALIVE\n",
            "  towers ['t0: DEAD', 't1: DEAD']\n",
            "  bases ['b0: ALIVE']\n",
            "  terminal False\n",
            "\n",
            "ACTION EAST value 398 \n",
            "\n",
            "[] [] A  \n",
            "[] [] b0 \n",
            "[] [] [] \n",
            "  guards {'b0': ['t0', 't1']}\n",
            "  agent ALIVE\n",
            "  towers ['t0: DEAD', 't1: DEAD']\n",
            "  bases ['b0: ALIVE']\n",
            "  terminal False\n",
            "\n",
            "ACTION SOUTH value 399 \n",
            "\n",
            "[] [] [] \n",
            "[] [] A  \n",
            "[] [] [] \n",
            "  guards {'b0': ['t0', 't1']}\n",
            "  agent ALIVE\n",
            "  towers ['t0: DEAD', 't1: DEAD']\n",
            "  bases ['b0: DEAD']\n",
            "  terminal True\n"
          ]
        },
        {
          "output_type": "execute_result",
          "data": {
            "text/plain": [
              "399"
            ]
          },
          "metadata": {},
          "execution_count": 142
        }
      ]
    },
    {
      "cell_type": "markdown",
      "source": [
        "# Monte Carlo Tree Search (MCTS)"
      ],
      "metadata": {
        "id": "uXulgs8vxijP"
      }
    },
    {
      "cell_type": "markdown",
      "source": [
        "Tree node data structure"
      ],
      "metadata": {
        "id": "RFIwhK6dxmlL"
      }
    },
    {
      "cell_type": "code",
      "source": [
        "class Node():\n",
        "  def __init__(self, state, Q = 0, action = None, parent = None, depth = 0):\n",
        "    self.state = state             # State of the game\n",
        "    self.Q = Q                     # backpropagaged reward, summed across visits\n",
        "    self.count = 0                 # number of times visited\n",
        "    self.parent = parent           # Pointer to parent node\n",
        "    self.children = []             # Pointer to children nodes\n",
        "    self.untried_children = []     # Pointer to children that haven't been visited [optional]\n",
        "    self.action = action           # Action that generated this state\n",
        "    self.depth = depth             # Depth in tree"
      ],
      "metadata": {
        "id": "hUSqdLg0amMo"
      },
      "execution_count": null,
      "outputs": []
    },
    {
      "cell_type": "markdown",
      "source": [
        "Helper to render an image of the game tree using graphviz. Find the file in the file system. you may want to use this to inspect the tree your MCTS implementation generates (it will return the root of the tree). Alternatively, it can be very instructive to generate a series of images after every loop of the MCTS algorithm, to see if the tree is being expanded correctly. This slows things down substantially, however."
      ],
      "metadata": {
        "id": "LGHJGPz9x64h"
      }
    },
    {
      "cell_type": "code",
      "source": [
        "### Render an image to file.\n",
        "### root: the root node of the search tree\n",
        "### filename: the name of the file (without filetype suffic)\n",
        "### c: the constant for upper confidence bound calculation\n",
        "\n",
        "def render_mcts_tree(root, filename, c = 1):\n",
        "  # Create graphviz root container\n",
        "  dot = graphviz.Digraph()\n",
        "  # Queue for exhaustive search through tree\n",
        "  queue = [root]\n",
        "  # Iterate while there are remaining nodes\n",
        "  while len(queue) > 0:\n",
        "    # Get current node\n",
        "    node = queue.pop(0)\n",
        "    # Node label is the count, Q, then both parts of UCB\n",
        "    label = \"count:\" + str(node.count) + \" Q:\" + str(node.Q) + ' exp:'+ str((node.Q/node.count) if node.count > 0 else \"n/a\")\n",
        "    # Create the node, with unique identifier for node. Terminal states will be red.\n",
        "    dot.node(name=str(id(node)), label=str(label), color=\"red\" if node.state.terminal else \"black\")\n",
        "    # If there is a parent, create an edge, label it with action name\n",
        "    if node.parent is not None:\n",
        "      dot.edge(str(id(node.parent)), str(id(node)), label=str(node.action.name))\n",
        "    # Grab children and add to queue\n",
        "    for child in node.children:\n",
        "      queue.append(child)\n",
        "  # Render to file\n",
        "  dot.render(filename + '.gv', view=False)\n",
        "  (graph,) = pydot.graph_from_dot_file(filename + '.gv')\n",
        "  graph.write_png(filename + '.png') "
      ],
      "metadata": {
        "id": "FvSaINC59zSL"
      },
      "execution_count": null,
      "outputs": []
    },
    {
      "cell_type": "markdown",
      "source": [
        "Upper confidence bound calculation. `c` is the constant, which defaults to 1.\n",
        "\n"
      ],
      "metadata": {
        "id": "J8QzZ69Lzdav"
      }
    },
    {
      "cell_type": "code",
      "source": [
        "### The upper confidence bound for the node\n",
        "### c: the constant applied to control exploration.\n",
        "\n",
        "def ucb(node, c = 1):\n",
        "  result = None\n",
        "  ### YOUR CODE BELOW HERE\n",
        "  if node.count==0:\n",
        "    return float(\"inf\")\n",
        "  if node.parent is None:\n",
        "      return node.Q/node.count\n",
        "  result = node.Q/node.count + c * math.sqrt(math.log(node.parent.count)/node.count)\n",
        "  ### YOUR CODE ABOVE HERE\n",
        "  return result"
      ],
      "metadata": {
        "id": "hUbUWkxRz3Wy"
      },
      "execution_count": 294,
      "outputs": []
    },
    {
      "cell_type": "markdown",
      "source": [
        "MCTS function implementation goes here."
      ],
      "metadata": {
        "id": "typ7L1i7z_fh"
      }
    },
    {
      "cell_type": "code",
      "source": [
        "def select(node, c):\n",
        "  max_uct = float(\"-inf\")\n",
        "  best_child = None\n",
        "  for child in node.children:\n",
        "      uct = ucb(child, c)\n",
        "      if uct > max_uct:\n",
        "        max_uct = uct\n",
        "        best_child = child\n",
        "  return best_child\n",
        "\n",
        "def is_valid(state, action):\n",
        "  if action == Actions.NORTH and state.agent.x-1>=0:\n",
        "    return True\n",
        "  if action == Actions.SOUTH and state.agent.x+1<=state.rows:\n",
        "    return True\n",
        "  if action == Actions.WEST and state.agent.y-1>=0:\n",
        "    return True\n",
        "  if action == Actions.EAST and state.agent.y+1<=state.cols:\n",
        "    return True\n",
        "  return False\n",
        "\n",
        "def expand(node, actions):\n",
        "  for action in actions:\n",
        "    if (is_valid(node.state, action)):\n",
        "      child_state = do_action(action, node.state)\n",
        "      child = Node(child_state, action=action, parent=node, depth=node.depth+1)\n",
        "      node.children.append(child)\n",
        "  return random.choice(node.children)\n",
        "\n",
        "def simulate(node, actions, num_rollouts, max_depth):\n",
        "  state = node.state\n",
        "  for i in range(max_depth):\n",
        "    if state.terminal:\n",
        "      return node.Q\n",
        "    action = random.choice(actions)\n",
        "    state = do_action(action, state)\n",
        "  return node.Q\n",
        "\n",
        "def rollout(node, actions, num_rollouts, max_rollout_depth):\n",
        "    result_sum = 0\n",
        "    for i in range(num_rollouts):\n",
        "        state = node.state\n",
        "        depth = node.depth\n",
        "        while not state.terminal and depth < max_rollout_depth:\n",
        "            action = random.choice(actions)\n",
        "            state = do_action(action, state)\n",
        "            depth += 1\n",
        "        result_sum += score(state, depth)\n",
        "    result = result_sum\n",
        "    return result\n",
        "\n",
        "def backpropagate(node, reward):\n",
        "    while node is not None:\n",
        "      node.count += 1\n",
        "      node.Q += reward\n",
        "      node = node.parent\n",
        "\n",
        "### MCTS \n",
        "### State is the initial state\n",
        "### actions is the list of available actions from Actions ENUM\n",
        "### num_iters: number of times to expand the tree\n",
        "### num_rollouts: number of times to try rollouts per visit\n",
        "### c: constant for UCB calculation\n",
        "def mcts(state, actions = [act for act in Actions], num_iters = 10, num_rollouts = 10, max_rollout_depth = 20, c = 1):\n",
        "  # Make root  node\n",
        "  root = Node(state=state)\n",
        "  best_action = None\n",
        "  working_depth = 0\n",
        "  working_dist = 0\n",
        "  working = root\n",
        "  ### YOUR CODE BELOW HERE\n",
        "\n",
        "  for action in actions:\n",
        "    if(is_valid(root.state, action)):\n",
        "      child_state = do_action(action, root.state)\n",
        "      child = Node(child_state, action=action, parent=root, depth=root.depth+1)\n",
        "      root.children.append(child)\n",
        "\n",
        "  for i in range(num_iters):\n",
        "      node = root   \n",
        "\n",
        "      # Selection phase\n",
        "      while len(node.children) != 0:\n",
        "        node = select(node, c)\n",
        "\n",
        "      # Expansion phase\n",
        "      if(node.count!=0):\n",
        "        temp = expand(node, actions)\n",
        "        if(temp is not None): \n",
        "          node = temp\n",
        "\n",
        "      # Simulation phase\n",
        "      reward = rollout(node, actions, num_rollouts, max_rollout_depth)\n",
        "\n",
        "      # Backpropagation phase\n",
        "      backpropagate(node, reward)\n",
        "\n",
        "  best_child = max(root.children, key=lambda child: child.Q)\n",
        "  best_action = best_child.action\n",
        "  ### YOUR CODE ABOVE HERE\n",
        "  return best_action, root\n"
      ],
      "metadata": {
        "id": "PBcIgheeizsC"
      },
      "execution_count": 298,
      "outputs": []
    },
    {
      "cell_type": "markdown",
      "source": [
        "Debugging hints: \n",
        "* Render the tree after every iteration with a different name so you can see how the tree changes after every iteration.\n",
        "* Print out the `root.Q/root.count` after every iteration. This number should go down over time.\n",
        "* Print out the depth and agent's coordinates of the node that is expanded in every iteration to see what states the search is focusing on. The game is simple enough that where the agent is in the grid is indicative of progress.\n",
        "* Print out the scores your rollouts achieve (if you are not doing a lot of rollouts).\n",
        "* Experiment with different numbers of iterations, number of rollouts, max rollout depths, and `c` values.\n",
        "* Make sure depth is being handled correctly in expansions and in rollouts."
      ],
      "metadata": {
        "id": "PXDxLLO_iom6"
      }
    },
    {
      "cell_type": "markdown",
      "source": [
        "Test MCTS"
      ],
      "metadata": {
        "id": "qSeVSU8U6rrP"
      }
    },
    {
      "cell_type": "code",
      "source": [
        "action, tree = mcts(init_state, num_iters=500, num_rollouts=10, max_rollout_depth=2, c=0)\n",
        "print(action)"
      ],
      "metadata": {
        "id": "_3wczQ7hRDkK",
        "colab": {
          "base_uri": "https://localhost:8080/"
        },
        "outputId": "c8bb1d6a-e6a8-45f4-c328-c54b4f77c60d"
      },
      "execution_count": 299,
      "outputs": [
        {
          "output_type": "stream",
          "name": "stdout",
          "text": [
            "Actions.EAST\n"
          ]
        }
      ]
    },
    {
      "cell_type": "markdown",
      "source": [
        "Render the tree as an image"
      ],
      "metadata": {
        "id": "vGQgQLtd1-xL"
      }
    },
    {
      "cell_type": "code",
      "source": [
        "render_mcts_tree(tree, filename = \"tree\")"
      ],
      "metadata": {
        "id": "eJZYFhGF_FXs"
      },
      "execution_count": null,
      "outputs": []
    },
    {
      "cell_type": "markdown",
      "source": [
        "Helper to get a node in the full tree. Route is a list of Actions that the agent would have taken.\n",
        "\n"
      ],
      "metadata": {
        "id": "OwMfjCt32F0o"
      }
    },
    {
      "cell_type": "code",
      "source": [
        "### Get a node from full tree\n",
        "### route: list of actions from Actions enum (e.g., [Actions.EAST, Actions.NORTH, etc.])\n",
        "\n",
        "def get_node_by_route(root, route):\n",
        "  # Start at the route\n",
        "  node = root\n",
        "  # Follow the route\n",
        "  for act in route:\n",
        "    # Find the child that the action should lead to\n",
        "    for child in node.children:\n",
        "      if child.action == act:\n",
        "        node = child\n",
        "        break\n",
        "  return node"
      ],
      "metadata": {
        "id": "M5Gyrj2vT-ag"
      },
      "execution_count": 300,
      "outputs": []
    },
    {
      "cell_type": "code",
      "source": [
        "example_node = get_node_by_route(tree, [Actions.EAST, Actions.NORTH])\n",
        "pretty_print(example_node.state)\n",
        "print(\"score=\",score(example_node.state))\n",
        "print(\"q=\", example_node.Q, \"count=\", example_node.count)"
      ],
      "metadata": {
        "id": "tyiYIp046zB8",
        "colab": {
          "base_uri": "https://localhost:8080/"
        },
        "outputId": "8b86b931-0344-4039-c72e-3608f48419f3"
      },
      "execution_count": 301,
      "outputs": [
        {
          "output_type": "stream",
          "name": "stdout",
          "text": [
            "[] A  [] \n",
            "[] [] b0 \n",
            "[] t1 [] \n",
            "  guards {'b0': ['t0', 't1']}\n",
            "  agent ALIVE\n",
            "  towers ['t0: DEAD', 't1: ALIVE']\n",
            "  bases ['b0: ALIVE']\n",
            "  terminal False\n",
            "score= 100\n",
            "q= 2810 count= 6\n"
          ]
        }
      ]
    },
    {
      "cell_type": "markdown",
      "source": [
        "Run the agent with the MCTS algorithm making decisions at every step. The tree must be regenerated every time because sampling will mean different information is available. Depending on how the `num_iters` and `num_rollouts` is set, the agent may be more or less successful. Also, the agent may take different paths every time."
      ],
      "metadata": {
        "id": "A4gHDavM2cdI"
      }
    },
    {
      "cell_type": "code",
      "source": [
        "### Run the MCTS agent\n",
        "### state: init state\n",
        "### actions: list of actions from Actions enum\n",
        "### num_iters: number of times to expand the tree\n",
        "### num_rollouts: number of rollouts per visit\n",
        "### c: constant for ucb calculation\n",
        "\n",
        "def run_mcts(state, actions = [act for act in Actions], num_iters = 10, num_rollouts = 10, c = 1, max_rollout_depth = 100):\n",
        "  # Print the start\n",
        "  pretty_print(state)\n",
        "  # Keep track of actions\n",
        "  executed_actions = []\n",
        "  # Run until a terminal state is reached\n",
        "  while not state.terminal:\n",
        "    # Compute the best action\n",
        "    action, _ = mcts(state=state, actions=actions, num_iters=num_iters, num_rollouts=num_rollouts, c=c, max_rollout_depth=max_rollout_depth)\n",
        "    print(\"\\nACTION\", action.name, '\\n')\n",
        "    # Append action to the list of stored actions\n",
        "    executed_actions.append(action)\n",
        "    # Execute the action\n",
        "    state = do_action(action, state)\n",
        "    # Print the new state\n",
        "    pretty_print(state)\n",
        "    print(\"\\nactions:\", [a.name for a in executed_actions])\n",
        "    print(\"\\nscore=\", score(state, depth=len(executed_actions)))\n",
        "  return state, executed_actions\n"
      ],
      "metadata": {
        "id": "QjYw3AJxQZjF"
      },
      "execution_count": 302,
      "outputs": []
    },
    {
      "cell_type": "code",
      "source": [
        "end_state, actions = run_mcts(init_state, num_iters=500, num_rollouts=10, max_rollout_depth=10, c=1)"
      ],
      "metadata": {
        "id": "Bv2sZtfDQoAc",
        "colab": {
          "base_uri": "https://localhost:8080/"
        },
        "outputId": "e89a331a-ed7f-4cda-e21b-453f91022515"
      },
      "execution_count": 303,
      "outputs": [
        {
          "output_type": "stream",
          "name": "stdout",
          "text": [
            "[] t0 [] \n",
            "A  [] b0 \n",
            "[] t1 [] \n",
            "  guards {'b0': ['t0', 't1']}\n",
            "  agent ALIVE\n",
            "  towers ['t0: ALIVE', 't1: ALIVE']\n",
            "  bases ['b0: ALIVE']\n",
            "  terminal False\n",
            "\n",
            "ACTION EAST \n",
            "\n",
            "[] t0 [] \n",
            "[] A  b0 \n",
            "[] t1 [] \n",
            "  guards {'b0': ['t0', 't1']}\n",
            "  agent ALIVE\n",
            "  towers ['t0: ALIVE', 't1: ALIVE']\n",
            "  bases ['b0: ALIVE']\n",
            "  terminal False\n",
            "\n",
            "actions: ['EAST']\n",
            "\n",
            "score= -1\n",
            "\n",
            "ACTION SOUTH \n",
            "\n",
            "[] t0 [] \n",
            "[] [] b0 \n",
            "[] A  [] \n",
            "  guards {'b0': ['t0', 't1']}\n",
            "  agent ALIVE\n",
            "  towers ['t0: ALIVE', 't1: DEAD']\n",
            "  bases ['b0: ALIVE']\n",
            "  terminal False\n",
            "\n",
            "actions: ['EAST', 'SOUTH']\n",
            "\n",
            "score= 98\n",
            "\n",
            "ACTION NORTH \n",
            "\n",
            "[] t0 [] \n",
            "[] A  b0 \n",
            "[] [] [] \n",
            "  guards {'b0': ['t0', 't1']}\n",
            "  agent ALIVE\n",
            "  towers ['t0: ALIVE', 't1: DEAD']\n",
            "  bases ['b0: ALIVE']\n",
            "  terminal False\n",
            "\n",
            "actions: ['EAST', 'SOUTH', 'NORTH']\n",
            "\n",
            "score= 97\n",
            "\n",
            "ACTION NORTH \n",
            "\n",
            "[] A  [] \n",
            "[] [] b0 \n",
            "[] [] [] \n",
            "  guards {'b0': ['t0', 't1']}\n",
            "  agent ALIVE\n",
            "  towers ['t0: DEAD', 't1: DEAD']\n",
            "  bases ['b0: ALIVE']\n",
            "  terminal False\n",
            "\n",
            "actions: ['EAST', 'SOUTH', 'NORTH', 'NORTH']\n",
            "\n",
            "score= 196\n",
            "\n",
            "ACTION SOUTH \n",
            "\n",
            "[] [] [] \n",
            "[] A  b0 \n",
            "[] [] [] \n",
            "  guards {'b0': ['t0', 't1']}\n",
            "  agent ALIVE\n",
            "  towers ['t0: DEAD', 't1: DEAD']\n",
            "  bases ['b0: ALIVE']\n",
            "  terminal False\n",
            "\n",
            "actions: ['EAST', 'SOUTH', 'NORTH', 'NORTH', 'SOUTH']\n",
            "\n",
            "score= 195\n",
            "\n",
            "ACTION EAST \n",
            "\n",
            "[] [] [] \n",
            "[] [] A  \n",
            "[] [] [] \n",
            "  guards {'b0': ['t0', 't1']}\n",
            "  agent ALIVE\n",
            "  towers ['t0: DEAD', 't1: DEAD']\n",
            "  bases ['b0: DEAD']\n",
            "  terminal True\n",
            "\n",
            "actions: ['EAST', 'SOUTH', 'NORTH', 'NORTH', 'SOUTH', 'EAST']\n",
            "\n",
            "score= 394\n"
          ]
        }
      ]
    },
    {
      "cell_type": "markdown",
      "source": [
        "### Running Maximax and MCTS on Larger Map\n"
      ],
      "metadata": {
        "id": "b1-ol-rH0lKa"
      }
    },
    {
      "cell_type": "code",
      "source": [
        "state_to_test = big_test_map\n",
        "init_state = deepcopy(state_to_test)\n",
        "pretty_print(init_state)"
      ],
      "metadata": {
        "id": "WJ2N8Lx4g0YV",
        "colab": {
          "base_uri": "https://localhost:8080/"
        },
        "outputId": "2ea8267c-c428-4757-c809-48757d96b45b"
      },
      "execution_count": 304,
      "outputs": [
        {
          "output_type": "stream",
          "name": "stdout",
          "text": [
            "[] T3 [] B1 [] \n",
            "[] [] T2 [] [] \n",
            "A  [] [] [] [] \n",
            "[] T1 [] T0 [] \n",
            "[] [] T4 [] B0 \n",
            "  guards {'B0': ['T0'], 'B1': ['T1'], 'T1': ['T2'], 'T0': ['T3', 'T4']}\n",
            "  agent ALIVE\n",
            "  towers ['T3: ALIVE', 'T2: ALIVE', 'T1: ALIVE', 'T0: ALIVE', 'T4: ALIVE']\n",
            "  bases ['B0: ALIVE', 'B1: ALIVE']\n",
            "  terminal False\n"
          ]
        }
      ]
    },
    {
      "cell_type": "markdown",
      "source": [
        "Run maximax on the big map"
      ],
      "metadata": {
        "id": "c1ZAdko3g5Kx"
      }
    },
    {
      "cell_type": "code",
      "source": [
        "maximax_val = run_maximax(init_state, max_depth=10)\n",
        "print(\"Maximax Value: \", maximax_val)"
      ],
      "metadata": {
        "id": "rnw1ZY1tg8NN",
        "colab": {
          "base_uri": "https://localhost:8080/"
        },
        "outputId": "6880380c-db7b-44e8-c775-b14de4bfea50"
      },
      "execution_count": 305,
      "outputs": [
        {
          "output_type": "stream",
          "name": "stdout",
          "text": [
            "[] T3 [] B1 [] \n",
            "[] [] T2 [] [] \n",
            "A  [] [] [] [] \n",
            "[] T1 [] T0 [] \n",
            "[] [] T4 [] B0 \n",
            "  guards {'B0': ['T0'], 'B1': ['T1'], 'T1': ['T2'], 'T0': ['T3', 'T4']}\n",
            "  agent ALIVE\n",
            "  towers ['T3: ALIVE', 'T2: ALIVE', 'T1: ALIVE', 'T0: ALIVE', 'T4: ALIVE']\n",
            "  bases ['B0: ALIVE', 'B1: ALIVE']\n",
            "  terminal False\n",
            "\n",
            "ACTION EAST value 390 \n",
            "\n",
            "[] T3 [] B1 [] \n",
            "[] [] T2 [] [] \n",
            "[] A  [] [] [] \n",
            "[] T1 [] T0 [] \n",
            "[] [] T4 [] B0 \n",
            "  guards {'B0': ['T0'], 'B1': ['T1'], 'T1': ['T2'], 'T0': ['T3', 'T4']}\n",
            "  agent ALIVE\n",
            "  towers ['T3: ALIVE', 'T2: ALIVE', 'T1: ALIVE', 'T0: ALIVE', 'T4: ALIVE']\n",
            "  bases ['B0: ALIVE', 'B1: ALIVE']\n",
            "  terminal False\n",
            "\n",
            "ACTION EAST value 490 \n",
            "\n",
            "[] T3 [] B1 [] \n",
            "[] [] T2 [] [] \n",
            "[] [] A  [] [] \n",
            "[] T1 [] T0 [] \n",
            "[] [] T4 [] B0 \n",
            "  guards {'B0': ['T0'], 'B1': ['T1'], 'T1': ['T2'], 'T0': ['T3', 'T4']}\n",
            "  agent ALIVE\n",
            "  towers ['T3: ALIVE', 'T2: ALIVE', 'T1: ALIVE', 'T0: ALIVE', 'T4: ALIVE']\n",
            "  bases ['B0: ALIVE', 'B1: ALIVE']\n",
            "  terminal False\n",
            "\n",
            "ACTION NORTH value 490 \n",
            "\n",
            "[] T3 [] B1 [] \n",
            "[] [] A  [] [] \n",
            "[] [] [] [] [] \n",
            "[] T1 [] T0 [] \n",
            "[] [] T4 [] B0 \n",
            "  guards {'B0': ['T0'], 'B1': ['T1'], 'T1': ['T2'], 'T0': ['T3', 'T4']}\n",
            "  agent ALIVE\n",
            "  towers ['T3: ALIVE', 'T2: DEAD', 'T1: ALIVE', 'T0: ALIVE', 'T4: ALIVE']\n",
            "  bases ['B0: ALIVE', 'B1: ALIVE']\n",
            "  terminal False\n",
            "\n",
            "ACTION SOUTH value 590 \n",
            "\n",
            "[] T3 [] B1 [] \n",
            "[] [] [] [] [] \n",
            "[] [] A  [] [] \n",
            "[] T1 [] T0 [] \n",
            "[] [] T4 [] B0 \n",
            "  guards {'B0': ['T0'], 'B1': ['T1'], 'T1': ['T2'], 'T0': ['T3', 'T4']}\n",
            "  agent ALIVE\n",
            "  towers ['T3: ALIVE', 'T2: DEAD', 'T1: ALIVE', 'T0: ALIVE', 'T4: ALIVE']\n",
            "  bases ['B0: ALIVE', 'B1: ALIVE']\n",
            "  terminal False\n",
            "\n",
            "ACTION SOUTH value 590 \n",
            "\n",
            "[] T3 [] B1 [] \n",
            "[] [] [] [] [] \n",
            "[] [] [] [] [] \n",
            "[] T1 A  T0 [] \n",
            "[] [] T4 [] B0 \n",
            "  guards {'B0': ['T0'], 'B1': ['T1'], 'T1': ['T2'], 'T0': ['T3', 'T4']}\n",
            "  agent ALIVE\n",
            "  towers ['T3: ALIVE', 'T2: DEAD', 'T1: ALIVE', 'T0: ALIVE', 'T4: ALIVE']\n",
            "  bases ['B0: ALIVE', 'B1: ALIVE']\n",
            "  terminal False\n",
            "\n",
            "ACTION SOUTH value 590 \n",
            "\n",
            "[] T3 [] B1 [] \n",
            "[] [] [] [] [] \n",
            "[] [] [] [] [] \n",
            "[] T1 [] T0 [] \n",
            "[] [] A  [] B0 \n",
            "  guards {'B0': ['T0'], 'B1': ['T1'], 'T1': ['T2'], 'T0': ['T3', 'T4']}\n",
            "  agent ALIVE\n",
            "  towers ['T3: ALIVE', 'T2: DEAD', 'T1: ALIVE', 'T0: ALIVE', 'T4: DEAD']\n",
            "  bases ['B0: ALIVE', 'B1: ALIVE']\n",
            "  terminal False\n",
            "\n",
            "ACTION NORTH value 690 \n",
            "\n",
            "[] T3 [] B1 [] \n",
            "[] [] [] [] [] \n",
            "[] [] [] [] [] \n",
            "[] T1 A  T0 [] \n",
            "[] [] [] [] B0 \n",
            "  guards {'B0': ['T0'], 'B1': ['T1'], 'T1': ['T2'], 'T0': ['T3', 'T4']}\n",
            "  agent ALIVE\n",
            "  towers ['T3: ALIVE', 'T2: DEAD', 'T1: ALIVE', 'T0: ALIVE', 'T4: DEAD']\n",
            "  bases ['B0: ALIVE', 'B1: ALIVE']\n",
            "  terminal False\n",
            "\n",
            "ACTION WEST value 690 \n",
            "\n",
            "[] T3 [] B1 [] \n",
            "[] [] [] [] [] \n",
            "[] [] [] [] [] \n",
            "[] A  [] T0 [] \n",
            "[] [] [] [] B0 \n",
            "  guards {'B0': ['T0'], 'B1': ['T1'], 'T1': ['T2'], 'T0': ['T3', 'T4']}\n",
            "  agent ALIVE\n",
            "  towers ['T3: ALIVE', 'T2: DEAD', 'T1: DEAD', 'T0: ALIVE', 'T4: DEAD']\n",
            "  bases ['B0: ALIVE', 'B1: ALIVE']\n",
            "  terminal False\n",
            "\n",
            "ACTION NORTH value 890 \n",
            "\n",
            "[] T3 [] B1 [] \n",
            "[] [] [] [] [] \n",
            "[] A  [] [] [] \n",
            "[] [] [] T0 [] \n",
            "[] [] [] [] B0 \n",
            "  guards {'B0': ['T0'], 'B1': ['T1'], 'T1': ['T2'], 'T0': ['T3', 'T4']}\n",
            "  agent ALIVE\n",
            "  towers ['T3: ALIVE', 'T2: DEAD', 'T1: DEAD', 'T0: ALIVE', 'T4: DEAD']\n",
            "  bases ['B0: ALIVE', 'B1: ALIVE']\n",
            "  terminal False\n",
            "\n",
            "ACTION NORTH value 891 \n",
            "\n",
            "[] T3 [] B1 [] \n",
            "[] A  [] [] [] \n",
            "[] [] [] [] [] \n",
            "[] [] [] T0 [] \n",
            "[] [] [] [] B0 \n",
            "  guards {'B0': ['T0'], 'B1': ['T1'], 'T1': ['T2'], 'T0': ['T3', 'T4']}\n",
            "  agent ALIVE\n",
            "  towers ['T3: ALIVE', 'T2: DEAD', 'T1: DEAD', 'T0: ALIVE', 'T4: DEAD']\n",
            "  bases ['B0: ALIVE', 'B1: ALIVE']\n",
            "  terminal False\n",
            "\n",
            "ACTION NORTH value 892 \n",
            "\n",
            "[] A  [] B1 [] \n",
            "[] [] [] [] [] \n",
            "[] [] [] [] [] \n",
            "[] [] [] T0 [] \n",
            "[] [] [] [] B0 \n",
            "  guards {'B0': ['T0'], 'B1': ['T1'], 'T1': ['T2'], 'T0': ['T3', 'T4']}\n",
            "  agent ALIVE\n",
            "  towers ['T3: DEAD', 'T2: DEAD', 'T1: DEAD', 'T0: ALIVE', 'T4: DEAD']\n",
            "  bases ['B0: ALIVE', 'B1: ALIVE']\n",
            "  terminal False\n",
            "\n",
            "ACTION EAST value 893 \n",
            "\n",
            "[] [] A  B1 [] \n",
            "[] [] [] [] [] \n",
            "[] [] [] [] [] \n",
            "[] [] [] T0 [] \n",
            "[] [] [] [] B0 \n",
            "  guards {'B0': ['T0'], 'B1': ['T1'], 'T1': ['T2'], 'T0': ['T3', 'T4']}\n",
            "  agent ALIVE\n",
            "  towers ['T3: DEAD', 'T2: DEAD', 'T1: DEAD', 'T0: ALIVE', 'T4: DEAD']\n",
            "  bases ['B0: ALIVE', 'B1: ALIVE']\n",
            "  terminal False\n",
            "\n",
            "ACTION EAST value 894 \n",
            "\n",
            "[] [] [] A  [] \n",
            "[] [] [] [] [] \n",
            "[] [] [] [] [] \n",
            "[] [] [] T0 [] \n",
            "[] [] [] [] B0 \n",
            "  guards {'B0': ['T0'], 'B1': ['T1'], 'T1': ['T2'], 'T0': ['T3', 'T4']}\n",
            "  agent ALIVE\n",
            "  towers ['T3: DEAD', 'T2: DEAD', 'T1: DEAD', 'T0: ALIVE', 'T4: DEAD']\n",
            "  bases ['B0: ALIVE', 'B1: DEAD']\n",
            "  terminal False\n",
            "\n",
            "ACTION SOUTH value 895 \n",
            "\n",
            "[] [] [] [] [] \n",
            "[] [] [] A  [] \n",
            "[] [] [] [] [] \n",
            "[] [] [] T0 [] \n",
            "[] [] [] [] B0 \n",
            "  guards {'B0': ['T0'], 'B1': ['T1'], 'T1': ['T2'], 'T0': ['T3', 'T4']}\n",
            "  agent ALIVE\n",
            "  towers ['T3: DEAD', 'T2: DEAD', 'T1: DEAD', 'T0: ALIVE', 'T4: DEAD']\n",
            "  bases ['B0: ALIVE', 'B1: DEAD']\n",
            "  terminal False\n",
            "\n",
            "ACTION SOUTH value 896 \n",
            "\n",
            "[] [] [] [] [] \n",
            "[] [] [] [] [] \n",
            "[] [] [] A  [] \n",
            "[] [] [] T0 [] \n",
            "[] [] [] [] B0 \n",
            "  guards {'B0': ['T0'], 'B1': ['T1'], 'T1': ['T2'], 'T0': ['T3', 'T4']}\n",
            "  agent ALIVE\n",
            "  towers ['T3: DEAD', 'T2: DEAD', 'T1: DEAD', 'T0: ALIVE', 'T4: DEAD']\n",
            "  bases ['B0: ALIVE', 'B1: DEAD']\n",
            "  terminal False\n",
            "\n",
            "ACTION SOUTH value 897 \n",
            "\n",
            "[] [] [] [] [] \n",
            "[] [] [] [] [] \n",
            "[] [] [] [] [] \n",
            "[] [] [] A  [] \n",
            "[] [] [] [] B0 \n",
            "  guards {'B0': ['T0'], 'B1': ['T1'], 'T1': ['T2'], 'T0': ['T3', 'T4']}\n",
            "  agent ALIVE\n",
            "  towers ['T3: DEAD', 'T2: DEAD', 'T1: DEAD', 'T0: DEAD', 'T4: DEAD']\n",
            "  bases ['B0: ALIVE', 'B1: DEAD']\n",
            "  terminal False\n",
            "\n",
            "ACTION EAST value 898 \n",
            "\n",
            "[] [] [] [] [] \n",
            "[] [] [] [] [] \n",
            "[] [] [] [] [] \n",
            "[] [] [] [] A  \n",
            "[] [] [] [] B0 \n",
            "  guards {'B0': ['T0'], 'B1': ['T1'], 'T1': ['T2'], 'T0': ['T3', 'T4']}\n",
            "  agent ALIVE\n",
            "  towers ['T3: DEAD', 'T2: DEAD', 'T1: DEAD', 'T0: DEAD', 'T4: DEAD']\n",
            "  bases ['B0: ALIVE', 'B1: DEAD']\n",
            "  terminal False\n",
            "\n",
            "ACTION SOUTH value 899 \n",
            "\n",
            "[] [] [] [] [] \n",
            "[] [] [] [] [] \n",
            "[] [] [] [] [] \n",
            "[] [] [] [] [] \n",
            "[] [] [] [] A  \n",
            "  guards {'B0': ['T0'], 'B1': ['T1'], 'T1': ['T2'], 'T0': ['T3', 'T4']}\n",
            "  agent ALIVE\n",
            "  towers ['T3: DEAD', 'T2: DEAD', 'T1: DEAD', 'T0: DEAD', 'T4: DEAD']\n",
            "  bases ['B0: DEAD', 'B1: DEAD']\n",
            "  terminal True\n",
            "Maximax Value:  899\n"
          ]
        }
      ]
    },
    {
      "cell_type": "markdown",
      "source": [
        "Run MCTS on big map"
      ],
      "metadata": {
        "id": "SqXJo1Qag-zF"
      }
    },
    {
      "cell_type": "code",
      "source": [
        "end_state, actions = run_mcts(init_state, num_iters=500, num_rollouts=10, max_rollout_depth=10, c=1)\n",
        "print(\"MCTS Value: \", score(end_state, depth=len(actions)))"
      ],
      "metadata": {
        "id": "cWt55X151xoo",
        "colab": {
          "base_uri": "https://localhost:8080/"
        },
        "outputId": "5026df24-f586-44f0-f3e8-59d239e19fe8"
      },
      "execution_count": 306,
      "outputs": [
        {
          "output_type": "stream",
          "name": "stdout",
          "text": [
            "[] T3 [] B1 [] \n",
            "[] [] T2 [] [] \n",
            "A  [] [] [] [] \n",
            "[] T1 [] T0 [] \n",
            "[] [] T4 [] B0 \n",
            "  guards {'B0': ['T0'], 'B1': ['T1'], 'T1': ['T2'], 'T0': ['T3', 'T4']}\n",
            "  agent ALIVE\n",
            "  towers ['T3: ALIVE', 'T2: ALIVE', 'T1: ALIVE', 'T0: ALIVE', 'T4: ALIVE']\n",
            "  bases ['B0: ALIVE', 'B1: ALIVE']\n",
            "  terminal False\n",
            "\n",
            "ACTION EAST \n",
            "\n",
            "[] T3 [] B1 [] \n",
            "[] [] T2 [] [] \n",
            "[] A  [] [] [] \n",
            "[] T1 [] T0 [] \n",
            "[] [] T4 [] B0 \n",
            "  guards {'B0': ['T0'], 'B1': ['T1'], 'T1': ['T2'], 'T0': ['T3', 'T4']}\n",
            "  agent ALIVE\n",
            "  towers ['T3: ALIVE', 'T2: ALIVE', 'T1: ALIVE', 'T0: ALIVE', 'T4: ALIVE']\n",
            "  bases ['B0: ALIVE', 'B1: ALIVE']\n",
            "  terminal False\n",
            "\n",
            "actions: ['EAST']\n",
            "\n",
            "score= -1\n",
            "\n",
            "ACTION NORTH \n",
            "\n",
            "[] T3 [] B1 [] \n",
            "[] A  T2 [] [] \n",
            "[] [] [] [] [] \n",
            "[] T1 [] T0 [] \n",
            "[] [] T4 [] B0 \n",
            "  guards {'B0': ['T0'], 'B1': ['T1'], 'T1': ['T2'], 'T0': ['T3', 'T4']}\n",
            "  agent ALIVE\n",
            "  towers ['T3: ALIVE', 'T2: ALIVE', 'T1: ALIVE', 'T0: ALIVE', 'T4: ALIVE']\n",
            "  bases ['B0: ALIVE', 'B1: ALIVE']\n",
            "  terminal False\n",
            "\n",
            "actions: ['EAST', 'NORTH']\n",
            "\n",
            "score= -2\n",
            "\n",
            "ACTION EAST \n",
            "\n",
            "[] T3 [] B1 [] \n",
            "[] [] A  [] [] \n",
            "[] [] [] [] [] \n",
            "[] T1 [] T0 [] \n",
            "[] [] T4 [] B0 \n",
            "  guards {'B0': ['T0'], 'B1': ['T1'], 'T1': ['T2'], 'T0': ['T3', 'T4']}\n",
            "  agent ALIVE\n",
            "  towers ['T3: ALIVE', 'T2: DEAD', 'T1: ALIVE', 'T0: ALIVE', 'T4: ALIVE']\n",
            "  bases ['B0: ALIVE', 'B1: ALIVE']\n",
            "  terminal False\n",
            "\n",
            "actions: ['EAST', 'NORTH', 'EAST']\n",
            "\n",
            "score= 97\n",
            "\n",
            "ACTION SOUTH \n",
            "\n",
            "[] T3 [] B1 [] \n",
            "[] [] [] [] [] \n",
            "[] [] A  [] [] \n",
            "[] T1 [] T0 [] \n",
            "[] [] T4 [] B0 \n",
            "  guards {'B0': ['T0'], 'B1': ['T1'], 'T1': ['T2'], 'T0': ['T3', 'T4']}\n",
            "  agent ALIVE\n",
            "  towers ['T3: ALIVE', 'T2: DEAD', 'T1: ALIVE', 'T0: ALIVE', 'T4: ALIVE']\n",
            "  bases ['B0: ALIVE', 'B1: ALIVE']\n",
            "  terminal False\n",
            "\n",
            "actions: ['EAST', 'NORTH', 'EAST', 'SOUTH']\n",
            "\n",
            "score= 96\n",
            "\n",
            "ACTION WEST \n",
            "\n",
            "[] T3 [] B1 [] \n",
            "[] [] [] [] [] \n",
            "[] A  [] [] [] \n",
            "[] T1 [] T0 [] \n",
            "[] [] T4 [] B0 \n",
            "  guards {'B0': ['T0'], 'B1': ['T1'], 'T1': ['T2'], 'T0': ['T3', 'T4']}\n",
            "  agent ALIVE\n",
            "  towers ['T3: ALIVE', 'T2: DEAD', 'T1: ALIVE', 'T0: ALIVE', 'T4: ALIVE']\n",
            "  bases ['B0: ALIVE', 'B1: ALIVE']\n",
            "  terminal False\n",
            "\n",
            "actions: ['EAST', 'NORTH', 'EAST', 'SOUTH', 'WEST']\n",
            "\n",
            "score= 95\n",
            "\n",
            "ACTION SOUTH \n",
            "\n",
            "[] T3 [] B1 [] \n",
            "[] [] [] [] [] \n",
            "[] [] [] [] [] \n",
            "[] A  [] T0 [] \n",
            "[] [] T4 [] B0 \n",
            "  guards {'B0': ['T0'], 'B1': ['T1'], 'T1': ['T2'], 'T0': ['T3', 'T4']}\n",
            "  agent ALIVE\n",
            "  towers ['T3: ALIVE', 'T2: DEAD', 'T1: DEAD', 'T0: ALIVE', 'T4: ALIVE']\n",
            "  bases ['B0: ALIVE', 'B1: ALIVE']\n",
            "  terminal False\n",
            "\n",
            "actions: ['EAST', 'NORTH', 'EAST', 'SOUTH', 'WEST', 'SOUTH']\n",
            "\n",
            "score= 194\n",
            "\n",
            "ACTION EAST \n",
            "\n",
            "[] T3 [] B1 [] \n",
            "[] [] [] [] [] \n",
            "[] [] [] [] [] \n",
            "[] [] A  T0 [] \n",
            "[] [] T4 [] B0 \n",
            "  guards {'B0': ['T0'], 'B1': ['T1'], 'T1': ['T2'], 'T0': ['T3', 'T4']}\n",
            "  agent ALIVE\n",
            "  towers ['T3: ALIVE', 'T2: DEAD', 'T1: DEAD', 'T0: ALIVE', 'T4: ALIVE']\n",
            "  bases ['B0: ALIVE', 'B1: ALIVE']\n",
            "  terminal False\n",
            "\n",
            "actions: ['EAST', 'NORTH', 'EAST', 'SOUTH', 'WEST', 'SOUTH', 'EAST']\n",
            "\n",
            "score= 193\n",
            "\n",
            "ACTION SOUTH \n",
            "\n",
            "[] T3 [] B1 [] \n",
            "[] [] [] [] [] \n",
            "[] [] [] [] [] \n",
            "[] [] [] T0 [] \n",
            "[] [] A  [] B0 \n",
            "  guards {'B0': ['T0'], 'B1': ['T1'], 'T1': ['T2'], 'T0': ['T3', 'T4']}\n",
            "  agent ALIVE\n",
            "  towers ['T3: ALIVE', 'T2: DEAD', 'T1: DEAD', 'T0: ALIVE', 'T4: DEAD']\n",
            "  bases ['B0: ALIVE', 'B1: ALIVE']\n",
            "  terminal False\n",
            "\n",
            "actions: ['EAST', 'NORTH', 'EAST', 'SOUTH', 'WEST', 'SOUTH', 'EAST', 'SOUTH']\n",
            "\n",
            "score= 292\n",
            "\n",
            "ACTION WEST \n",
            "\n",
            "[] T3 [] B1 [] \n",
            "[] [] [] [] [] \n",
            "[] [] [] [] [] \n",
            "[] [] [] T0 [] \n",
            "[] A  [] [] B0 \n",
            "  guards {'B0': ['T0'], 'B1': ['T1'], 'T1': ['T2'], 'T0': ['T3', 'T4']}\n",
            "  agent ALIVE\n",
            "  towers ['T3: ALIVE', 'T2: DEAD', 'T1: DEAD', 'T0: ALIVE', 'T4: DEAD']\n",
            "  bases ['B0: ALIVE', 'B1: ALIVE']\n",
            "  terminal False\n",
            "\n",
            "actions: ['EAST', 'NORTH', 'EAST', 'SOUTH', 'WEST', 'SOUTH', 'EAST', 'SOUTH', 'WEST']\n",
            "\n",
            "score= 291\n",
            "\n",
            "ACTION NORTH \n",
            "\n",
            "[] T3 [] B1 [] \n",
            "[] [] [] [] [] \n",
            "[] [] [] [] [] \n",
            "[] A  [] T0 [] \n",
            "[] [] [] [] B0 \n",
            "  guards {'B0': ['T0'], 'B1': ['T1'], 'T1': ['T2'], 'T0': ['T3', 'T4']}\n",
            "  agent ALIVE\n",
            "  towers ['T3: ALIVE', 'T2: DEAD', 'T1: DEAD', 'T0: ALIVE', 'T4: DEAD']\n",
            "  bases ['B0: ALIVE', 'B1: ALIVE']\n",
            "  terminal False\n",
            "\n",
            "actions: ['EAST', 'NORTH', 'EAST', 'SOUTH', 'WEST', 'SOUTH', 'EAST', 'SOUTH', 'WEST', 'NORTH']\n",
            "\n",
            "score= 290\n",
            "\n",
            "ACTION NORTH \n",
            "\n",
            "[] T3 [] B1 [] \n",
            "[] [] [] [] [] \n",
            "[] A  [] [] [] \n",
            "[] [] [] T0 [] \n",
            "[] [] [] [] B0 \n",
            "  guards {'B0': ['T0'], 'B1': ['T1'], 'T1': ['T2'], 'T0': ['T3', 'T4']}\n",
            "  agent ALIVE\n",
            "  towers ['T3: ALIVE', 'T2: DEAD', 'T1: DEAD', 'T0: ALIVE', 'T4: DEAD']\n",
            "  bases ['B0: ALIVE', 'B1: ALIVE']\n",
            "  terminal False\n",
            "\n",
            "actions: ['EAST', 'NORTH', 'EAST', 'SOUTH', 'WEST', 'SOUTH', 'EAST', 'SOUTH', 'WEST', 'NORTH', 'NORTH']\n",
            "\n",
            "score= 289\n",
            "\n",
            "ACTION NORTH \n",
            "\n",
            "[] T3 [] B1 [] \n",
            "[] A  [] [] [] \n",
            "[] [] [] [] [] \n",
            "[] [] [] T0 [] \n",
            "[] [] [] [] B0 \n",
            "  guards {'B0': ['T0'], 'B1': ['T1'], 'T1': ['T2'], 'T0': ['T3', 'T4']}\n",
            "  agent ALIVE\n",
            "  towers ['T3: ALIVE', 'T2: DEAD', 'T1: DEAD', 'T0: ALIVE', 'T4: DEAD']\n",
            "  bases ['B0: ALIVE', 'B1: ALIVE']\n",
            "  terminal False\n",
            "\n",
            "actions: ['EAST', 'NORTH', 'EAST', 'SOUTH', 'WEST', 'SOUTH', 'EAST', 'SOUTH', 'WEST', 'NORTH', 'NORTH', 'NORTH']\n",
            "\n",
            "score= 288\n",
            "\n",
            "ACTION NORTH \n",
            "\n",
            "[] A  [] B1 [] \n",
            "[] [] [] [] [] \n",
            "[] [] [] [] [] \n",
            "[] [] [] T0 [] \n",
            "[] [] [] [] B0 \n",
            "  guards {'B0': ['T0'], 'B1': ['T1'], 'T1': ['T2'], 'T0': ['T3', 'T4']}\n",
            "  agent ALIVE\n",
            "  towers ['T3: DEAD', 'T2: DEAD', 'T1: DEAD', 'T0: ALIVE', 'T4: DEAD']\n",
            "  bases ['B0: ALIVE', 'B1: ALIVE']\n",
            "  terminal False\n",
            "\n",
            "actions: ['EAST', 'NORTH', 'EAST', 'SOUTH', 'WEST', 'SOUTH', 'EAST', 'SOUTH', 'WEST', 'NORTH', 'NORTH', 'NORTH', 'NORTH']\n",
            "\n",
            "score= 387\n",
            "\n",
            "ACTION EAST \n",
            "\n",
            "[] [] A  B1 [] \n",
            "[] [] [] [] [] \n",
            "[] [] [] [] [] \n",
            "[] [] [] T0 [] \n",
            "[] [] [] [] B0 \n",
            "  guards {'B0': ['T0'], 'B1': ['T1'], 'T1': ['T2'], 'T0': ['T3', 'T4']}\n",
            "  agent ALIVE\n",
            "  towers ['T3: DEAD', 'T2: DEAD', 'T1: DEAD', 'T0: ALIVE', 'T4: DEAD']\n",
            "  bases ['B0: ALIVE', 'B1: ALIVE']\n",
            "  terminal False\n",
            "\n",
            "actions: ['EAST', 'NORTH', 'EAST', 'SOUTH', 'WEST', 'SOUTH', 'EAST', 'SOUTH', 'WEST', 'NORTH', 'NORTH', 'NORTH', 'NORTH', 'EAST']\n",
            "\n",
            "score= 386\n",
            "\n",
            "ACTION EAST \n",
            "\n",
            "[] [] [] A  [] \n",
            "[] [] [] [] [] \n",
            "[] [] [] [] [] \n",
            "[] [] [] T0 [] \n",
            "[] [] [] [] B0 \n",
            "  guards {'B0': ['T0'], 'B1': ['T1'], 'T1': ['T2'], 'T0': ['T3', 'T4']}\n",
            "  agent ALIVE\n",
            "  towers ['T3: DEAD', 'T2: DEAD', 'T1: DEAD', 'T0: ALIVE', 'T4: DEAD']\n",
            "  bases ['B0: ALIVE', 'B1: DEAD']\n",
            "  terminal False\n",
            "\n",
            "actions: ['EAST', 'NORTH', 'EAST', 'SOUTH', 'WEST', 'SOUTH', 'EAST', 'SOUTH', 'WEST', 'NORTH', 'NORTH', 'NORTH', 'NORTH', 'EAST', 'EAST']\n",
            "\n",
            "score= 585\n",
            "\n",
            "ACTION SOUTH \n",
            "\n",
            "[] [] [] [] [] \n",
            "[] [] [] A  [] \n",
            "[] [] [] [] [] \n",
            "[] [] [] T0 [] \n",
            "[] [] [] [] B0 \n",
            "  guards {'B0': ['T0'], 'B1': ['T1'], 'T1': ['T2'], 'T0': ['T3', 'T4']}\n",
            "  agent ALIVE\n",
            "  towers ['T3: DEAD', 'T2: DEAD', 'T1: DEAD', 'T0: ALIVE', 'T4: DEAD']\n",
            "  bases ['B0: ALIVE', 'B1: DEAD']\n",
            "  terminal False\n",
            "\n",
            "actions: ['EAST', 'NORTH', 'EAST', 'SOUTH', 'WEST', 'SOUTH', 'EAST', 'SOUTH', 'WEST', 'NORTH', 'NORTH', 'NORTH', 'NORTH', 'EAST', 'EAST', 'SOUTH']\n",
            "\n",
            "score= 584\n",
            "\n",
            "ACTION SOUTH \n",
            "\n",
            "[] [] [] [] [] \n",
            "[] [] [] [] [] \n",
            "[] [] [] A  [] \n",
            "[] [] [] T0 [] \n",
            "[] [] [] [] B0 \n",
            "  guards {'B0': ['T0'], 'B1': ['T1'], 'T1': ['T2'], 'T0': ['T3', 'T4']}\n",
            "  agent ALIVE\n",
            "  towers ['T3: DEAD', 'T2: DEAD', 'T1: DEAD', 'T0: ALIVE', 'T4: DEAD']\n",
            "  bases ['B0: ALIVE', 'B1: DEAD']\n",
            "  terminal False\n",
            "\n",
            "actions: ['EAST', 'NORTH', 'EAST', 'SOUTH', 'WEST', 'SOUTH', 'EAST', 'SOUTH', 'WEST', 'NORTH', 'NORTH', 'NORTH', 'NORTH', 'EAST', 'EAST', 'SOUTH', 'SOUTH']\n",
            "\n",
            "score= 583\n",
            "\n",
            "ACTION SOUTH \n",
            "\n",
            "[] [] [] [] [] \n",
            "[] [] [] [] [] \n",
            "[] [] [] [] [] \n",
            "[] [] [] A  [] \n",
            "[] [] [] [] B0 \n",
            "  guards {'B0': ['T0'], 'B1': ['T1'], 'T1': ['T2'], 'T0': ['T3', 'T4']}\n",
            "  agent ALIVE\n",
            "  towers ['T3: DEAD', 'T2: DEAD', 'T1: DEAD', 'T0: DEAD', 'T4: DEAD']\n",
            "  bases ['B0: ALIVE', 'B1: DEAD']\n",
            "  terminal False\n",
            "\n",
            "actions: ['EAST', 'NORTH', 'EAST', 'SOUTH', 'WEST', 'SOUTH', 'EAST', 'SOUTH', 'WEST', 'NORTH', 'NORTH', 'NORTH', 'NORTH', 'EAST', 'EAST', 'SOUTH', 'SOUTH', 'SOUTH']\n",
            "\n",
            "score= 682\n",
            "\n",
            "ACTION SOUTH \n",
            "\n",
            "[] [] [] [] [] \n",
            "[] [] [] [] [] \n",
            "[] [] [] [] [] \n",
            "[] [] [] [] [] \n",
            "[] [] [] A  B0 \n",
            "  guards {'B0': ['T0'], 'B1': ['T1'], 'T1': ['T2'], 'T0': ['T3', 'T4']}\n",
            "  agent ALIVE\n",
            "  towers ['T3: DEAD', 'T2: DEAD', 'T1: DEAD', 'T0: DEAD', 'T4: DEAD']\n",
            "  bases ['B0: ALIVE', 'B1: DEAD']\n",
            "  terminal False\n",
            "\n",
            "actions: ['EAST', 'NORTH', 'EAST', 'SOUTH', 'WEST', 'SOUTH', 'EAST', 'SOUTH', 'WEST', 'NORTH', 'NORTH', 'NORTH', 'NORTH', 'EAST', 'EAST', 'SOUTH', 'SOUTH', 'SOUTH', 'SOUTH']\n",
            "\n",
            "score= 681\n",
            "\n",
            "ACTION EAST \n",
            "\n",
            "[] [] [] [] [] \n",
            "[] [] [] [] [] \n",
            "[] [] [] [] [] \n",
            "[] [] [] [] [] \n",
            "[] [] [] [] A  \n",
            "  guards {'B0': ['T0'], 'B1': ['T1'], 'T1': ['T2'], 'T0': ['T3', 'T4']}\n",
            "  agent ALIVE\n",
            "  towers ['T3: DEAD', 'T2: DEAD', 'T1: DEAD', 'T0: DEAD', 'T4: DEAD']\n",
            "  bases ['B0: DEAD', 'B1: DEAD']\n",
            "  terminal True\n",
            "\n",
            "actions: ['EAST', 'NORTH', 'EAST', 'SOUTH', 'WEST', 'SOUTH', 'EAST', 'SOUTH', 'WEST', 'NORTH', 'NORTH', 'NORTH', 'NORTH', 'EAST', 'EAST', 'SOUTH', 'SOUTH', 'SOUTH', 'SOUTH', 'EAST']\n",
            "\n",
            "score= 880\n",
            "MCTS Value:  880\n"
          ]
        }
      ]
    },
    {
      "cell_type": "markdown",
      "source": [
        "# Grading\n",
        "\n",
        "For Maximax and MCTS each, you will receive points based on how well your agent performs on ``big_test_map`` map:\n",
        "- 5: > 800\n",
        "- 4: > 600\n",
        "- 3: > 400\n",
        "- 2: > 190\n",
        "- 1: > 97\n",
        "\n",
        "Total: 10 points\n",
        "\n",
        "For Maximax and MCTS each, you will receive points based on how well your agents performs on ``state2towers`` (state2towers):\n",
        "- 5: > 340\n",
        "- 4: > 240\n",
        "- 3: > 140\n",
        "- 2: > 90\n",
        "- 1: > 40\n",
        "\n",
        "Total: 10 points\n",
        "\n",
        "For ``ucb()`` implementation you will be tested on the number of unit-tests passed. Max score will be 5 points."
      ],
      "metadata": {
        "id": "Zy2mlT2SfyI0"
      }
    },
    {
      "cell_type": "markdown",
      "source": [
        "### UCB Testcases"
      ],
      "metadata": {
        "id": "-ForeBtFHUtp"
      }
    },
    {
      "cell_type": "code",
      "source": [
        "import unittest"
      ],
      "metadata": {
        "id": "nDP5rBk_GVCq"
      },
      "execution_count": 295,
      "outputs": []
    },
    {
      "cell_type": "code",
      "source": [
        "class TestUCB(unittest.TestCase):\n",
        "  noParent = Node(None, Q=10, action=None, parent=None, depth=0)\n",
        "  noParent.count = 2\n",
        "\n",
        "  child = Node(None, Q=7, action=None, parent=noParent, depth=0)\n",
        "  child.count = 2\n",
        "\n",
        "  sec_child = Node(None, Q=12, action=None, parent=noParent, depth=0)\n",
        "  sec_child.count=3\n",
        "\n",
        "  rand1 = Node(None, Q=284, action=None, parent=None, depth=0)\n",
        "  rand1.count = 27\n",
        "\n",
        "  rand2 = Node(None, Q=742, action=None, parent=rand1, depth=0)\n",
        "  rand2.count = 321\n",
        "\n",
        "  rand3 = Node(None, Q=412, action=None, parent=rand2, depth=0)\n",
        "  rand3.count = 200\n",
        "\n",
        "  def test_no_explore(self):\n",
        "    # self, state, Q = 0, action = None, parent = None, depth = 0\n",
        "    self.assertAlmostEqual(ucb(self.noParent, 1), 5, places=3)\n",
        "\n",
        "  def test_no_c(self):\n",
        "    self.assertAlmostEqual(ucb(self.child), 4.088705011257737, places=3)\n",
        "\n",
        "  def test_with_c(self):\n",
        "    self.assertAlmostEqual(ucb(self.sec_child, 5), 6.4033781443348055, places=3)\n",
        "\n",
        "  def test_rand1_1(self):\n",
        "    self.assertAlmostEqual(ucb(self.rand1), 10.518518518518519, places=3)\n",
        "\n",
        "  def test_rand1_2(self):\n",
        "    self.assertAlmostEqual(ucb(self.rand1, 67), 10.518518518518519, places=3)\n",
        "\n",
        "  def test_rand2_1(self):\n",
        "    self.assertAlmostEqual(ucb(self.rand2), 2.4128546819799297, places=3)\n",
        "\n",
        "  def test_rand2_2(self):\n",
        "    self.assertAlmostEqual(ucb(self.rand2, 34), 5.756685355541906, places=3)\n",
        "  \n",
        "  def test_rand3_1(self):\n",
        "    self.assertAlmostEqual(ucb(self.rand3, 1), 2.229874087534415, places=3)\n",
        "  \n",
        "  def test_rand3_2(self):\n",
        "    self.assertAlmostEqual(ucb(self.rand3, 15), 4.608111313016225, places=3)\n",
        "  \n",
        "  def test_rand3_3(self):\n",
        "    self.assertAlmostEqual(ucb(self.rand3, 5), 2.9093704376720746, places=3)"
      ],
      "metadata": {
        "id": "g5j70QvHHXmg"
      },
      "execution_count": 296,
      "outputs": []
    },
    {
      "cell_type": "markdown",
      "source": [
        "####Running Tests for UCB and Scoring"
      ],
      "metadata": {
        "id": "e58GS8MMtjjW"
      }
    },
    {
      "cell_type": "code",
      "source": [
        "res = unittest.main(argv=[''], verbosity=2, exit=False)\n",
        "total_ucb_score = ((10 - len(res.result.failures) - len(res.result.errors))/10)*5\n",
        "print( \"Total Points Acheived:\", total_ucb_score)"
      ],
      "metadata": {
        "id": "DO55wjvQJva1",
        "colab": {
          "base_uri": "https://localhost:8080/"
        },
        "outputId": "e1685cf0-e98d-4e5c-fd87-eddf6770c1da"
      },
      "execution_count": 297,
      "outputs": [
        {
          "output_type": "stream",
          "name": "stderr",
          "text": [
            "test_no_c (__main__.TestUCB) ... ok\n",
            "test_no_explore (__main__.TestUCB) ... ok\n",
            "test_rand1_1 (__main__.TestUCB) ... ok\n",
            "test_rand1_2 (__main__.TestUCB) ... ok\n",
            "test_rand2_1 (__main__.TestUCB) ... ok\n",
            "test_rand2_2 (__main__.TestUCB) ... ok\n",
            "test_rand3_1 (__main__.TestUCB) ... ok\n",
            "test_rand3_2 (__main__.TestUCB) ... ok\n",
            "test_rand3_3 (__main__.TestUCB) ... ok\n",
            "test_with_c (__main__.TestUCB) ... ok\n",
            "\n",
            "----------------------------------------------------------------------\n",
            "Ran 10 tests in 0.023s\n",
            "\n",
            "OK\n"
          ]
        },
        {
          "output_type": "stream",
          "name": "stdout",
          "text": [
            "Total Points Acheived: 5.0\n"
          ]
        }
      ]
    }
  ]
}